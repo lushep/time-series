{
 "cells": [
  {
   "cell_type": "markdown",
   "metadata": {},
   "source": [
    "# Time Series - Forecasting with Prophet"
   ]
  },
  {
   "cell_type": "markdown",
   "metadata": {},
   "source": [
    "\n",
    "To install Prophet use *pip install fbprophet* in command line or with Anaconda *conda install -c conda-forge fbprophet*"
   ]
  },
  {
   "cell_type": "code",
   "execution_count": null,
   "metadata": {},
   "outputs": [],
   "source": [
    "import datetime as dt\n",
    "import math\n",
    "\n",
    "import matplotlib.dates as mdates\n",
    "import matplotlib.pyplot as plt\n",
    "import numpy as np\n",
    "import pandas as pd\n",
    "\n",
    "from fbprophet import Prophet\n",
    "\n",
    "%matplotlib inline\n",
    "plt.rcParams[\"font.size\"] = 14\n",
    "plt.rcParams['figure.figsize'] = (20.0, 10.0)"
   ]
  },
  {
   "cell_type": "markdown",
   "metadata": {},
   "source": [
    "## Why bother?"
   ]
  },
  {
   "cell_type": "markdown",
   "metadata": {},
   "source": [
    "<img src='images/prophet-fb-eg.png' width=800px>"
   ]
  },
  {
   "cell_type": "markdown",
   "metadata": {},
   "source": [
    "Now we introduce a time series forecasting model designed to handle the common features of business time series seen above:\n",
    "- Seasonal cycles\n",
    "- Trend changes\n",
    "- Outliers\n",
    "\n",
    "Importantly, it is also designed to have intuitive parameters that can be adjusted without knowing the details of the underlying model.\n",
    "This implementation is available as open source software in Python called **Prophet**."
   ]
  },
  {
   "cell_type": "markdown",
   "metadata": {},
   "source": [
    "## Introduction to Prophet\n",
    "\n",
    "<a href=\"https://facebookincubator.github.io/prophet/\">\n",
    "<img src='https://cdn.analyticsvidhya.com/wp-content/uploads/2018/05/tumblr_inline_omh3tnv5zk1r1x9ql_500.png' align='right' style=\"width:300px\"></a> \n",
    "\n",
    "* Open source software\n",
    "* Released by Facebook’s Core Data Science team (Feb 23, 2017 in [github](https://github.com/facebookincubator/prophet))\n",
    "* Used highly for forecasting time series data - especially in business applications\n",
    "* Effective with missing data, outliers and dramatic changes\n",
    "* Allows the implementation of events/holidays\n",
    "* Python implementation\n",
    "* ( - ) it is a little bit of a black box\n",
    "\n",
    "[Read the article](https://facebookincubator.github.io/prophet/static/prophet_paper_20170113.pdf)"
   ]
  },
  {
   "cell_type": "markdown",
   "metadata": {},
   "source": [
    "## How Prophet works\n",
    "\n",
    "Prophet uses an additive regression model with the following main components:\n",
    "\n",
    "* Piecewise linear / logistic growth curve trend\n",
    "* Automatically detects changes in trends by selecting change points\n",
    "* A *yearly* seasonal component (using Fourier series)\n",
    "* A *weekly* seasonal component (using dummy variables)\n",
    "* User provided list of important holidays *(optional)*"
   ]
  },
  {
   "cell_type": "markdown",
   "metadata": {},
   "source": [
    "### Things to keep in mind with Prophet\n",
    "\n",
    "Prophet expects daily data by default - remember to specify if you have a different format.\n",
    "\n",
    "If Prophet does not detect a certain type of seasonality - it turns it off. So if you know this type should actually be there - you need to specify.\n"
   ]
  },
  {
   "cell_type": "markdown",
   "metadata": {},
   "source": [
    "## Prophet with Schiphol Data"
   ]
  },
  {
   "cell_type": "code",
   "execution_count": null,
   "metadata": {},
   "outputs": [],
   "source": [
    "schiphol = pd.read_csv('data/schiphol_passengers.csv', index_col='date', parse_dates=True)\n",
    "schiphol.index.freq = 'MS'\n",
    "schiphol = (schiphol\n",
    "            .rename(columns={'total_passengers': 'y'})\n",
    "            .assign(y = lambda df: df['y']/1000000,  #the variable of interest should be called 'y' for Prophet\n",
    "                   ds = lambda df: df.index)  #Prophet needs a 'ds' column with timestamps\n",
    "           )\n",
    "\n",
    "schiphol_train = schiphol.loc[:'2017 Jan']\n",
    "schiphol_test = schiphol.loc['2017 Jan':]\n",
    "schiphol.head()"
   ]
  },
  {
   "cell_type": "code",
   "execution_count": null,
   "metadata": {},
   "outputs": [],
   "source": [
    "fig, ax = plt.subplots(figsize=(18,5))\n",
    "schiphol_train['y'].plot(ax=ax);\n",
    "schiphol_test['y'].plot(ax=ax, c='g');"
   ]
  },
  {
   "cell_type": "code",
   "execution_count": null,
   "metadata": {
    "scrolled": true
   },
   "outputs": [],
   "source": [
    "model = Prophet()\n",
    "\n",
    "# explicitly set seasonality:\n",
    "model = Prophet(daily_seasonality=False, \n",
    "                weekly_seasonality=False, \n",
    "                yearly_seasonality=True)\n",
    "\n",
    "model.fit(schiphol_train);"
   ]
  },
  {
   "cell_type": "code",
   "execution_count": null,
   "metadata": {},
   "outputs": [],
   "source": [
    "future = model.make_future_dataframe(periods=35, freq='MS') \n",
    "forecast = model.predict(future)\n",
    "\n",
    "model.plot(forecast, figsize=(18,7));\n",
    "plt.xticks(rotation=25);"
   ]
  },
  {
   "cell_type": "markdown",
   "metadata": {},
   "source": [
    "Prophet has its own plotting functionality compatible with Matplotlib. It has some customization restrictions though.\n",
    "Black dots indicate the real data points. Dark blue line shows the model fit with light blue area indicating lower to upper prediction bounds.\n",
    "\n",
    "Let's have a closer look at the prediction area and compare it to the actual  test set values:"
   ]
  },
  {
   "cell_type": "code",
   "execution_count": null,
   "metadata": {},
   "outputs": [],
   "source": [
    "fig, ax = plt.subplots()\n",
    "model.plot(forecast, ax=ax);\n",
    "schiphol_test['y'].plot(ax=ax, c='green')\n",
    "plt.xticks(rotation=25)\n",
    "# plt.xlim(pd.Timestamp('2017-01-01'), pd.Timestamp('2019-12-01'))\n",
    "plt.show()"
   ]
  },
  {
   "cell_type": "markdown",
   "metadata": {},
   "source": [
    "Predictions look good, especially for fall and winter months; there is some underestimation for the summer peaks.\n",
    "\n",
    "Before we use some metrics to evaluate the model's predictive power, let's see what the Prophet's output actually looks like:"
   ]
  },
  {
   "cell_type": "code",
   "execution_count": null,
   "metadata": {
    "scrolled": true
   },
   "outputs": [],
   "source": [
    "forecast.head()"
   ]
  },
  {
   "cell_type": "markdown",
   "metadata": {},
   "source": [
    "If we want a more customized plot, we can get the necessary columns from the *forecast* dataframe and plot them as we usually would do with Pandas:"
   ]
  },
  {
   "cell_type": "code",
   "execution_count": null,
   "metadata": {},
   "outputs": [],
   "source": [
    "pltr = (forecast\n",
    "         .set_index(schiphol.index)\n",
    "        )\n",
    "\n",
    "fig, ax = plt.subplots(figsize=(18,6))\n",
    "schiphol['y'].plot(ax=ax);\n",
    "pltr[['trend','yearly']].plot(ax=ax);\n",
    "ax.legend([\"y_real\", \"trend\", \"yearly seasonality\"], prop={'size': 16});"
   ]
  },
  {
   "cell_type": "markdown",
   "metadata": {},
   "source": [
    "We can also plot components of Prophet's forecast using `model.plot_components(forecast)`. Note how this also includes confidence boundaries for the future trend:"
   ]
  },
  {
   "cell_type": "code",
   "execution_count": null,
   "metadata": {},
   "outputs": [],
   "source": [
    "model.plot_components(forecast)\n",
    "plt.xticks(rotation=25);"
   ]
  },
  {
   "cell_type": "markdown",
   "metadata": {},
   "source": [
    "## Detecting Outliers\n",
    "\n",
    "Identify and highlight on the plot the *training set* points that lie outside of the confidence boundaries of our Prophet model\n",
    "\n",
    "*TIP:* Create a new variable that takes the real *y values* when it is an outlier and a missing value (np.nan) otherwise. Then plot it alongside Prophet's plot. Make sure the index of the new dataframe is the timestamps."
   ]
  },
  {
   "cell_type": "code",
   "execution_count": null,
   "metadata": {},
   "outputs": [],
   "source": [
    "# %load answers/prophet_outliers.py\n",
    "outliers = (forecast\n",
    "            .set_index(schiphol.index)\n",
    "            .assign(y_real=schiphol_train['y'],\n",
    "                    outlier = lambda df:\n",
    "                                    df.apply(\n",
    "                                        lambda row :\n",
    "                                                     np.nan if (row['yhat_lower'] <= row['y_real'] <= row['yhat_upper']) \n",
    "                                                     else row['y_real'], axis = 1))\n",
    "        )\n",
    "\n",
    "fig, ax = plt.subplots(figsize=(18,8))\n",
    "model.plot(forecast, ax=ax);\n",
    "outliers['outlier'].plot(ax=ax, c='red')\n",
    "plt.xlim(pd.Timestamp('1999-01-01'), pd.Timestamp('2017-01-01'));"
   ]
  },
  {
   "cell_type": "markdown",
   "metadata": {},
   "source": [
    "What do you think the outliers from 2003 are caused by?"
   ]
  }
 ],
 "metadata": {
  "kernelspec": {
   "display_name": "Python 3",
   "language": "python",
   "name": "python3"
  },
  "language_info": {
   "codemirror_mode": {
    "name": "ipython",
    "version": 3
   },
   "file_extension": ".py",
   "mimetype": "text/x-python",
   "name": "python",
   "nbconvert_exporter": "python",
   "pygments_lexer": "ipython3",
   "version": "3.8.5"
  }
 },
 "nbformat": 4,
 "nbformat_minor": 4
}
