{
 "cells": [
  {
   "cell_type": "markdown",
   "metadata": {},
   "source": [
    "# Exercise with Time Series\n",
    "\n",
    "In this notebook you can play with the anonymised data. \n",
    "\n",
    "Can you correctly match the **graphs A, B, C, D** and **graphs 1, 2, 3, 4** to:\n",
    "\n",
    "- Hourly household powerconsumption\n",
    "- The daily processing of raw cow's milk into cheese products by dairy factories in the Netherlands\n",
    "- Hourly power consumption of a single household in Paris\n",
    "- Monthly Google trends for the word 'diet'\n",
    "\n",
    "Column names are also anonymised but you may get some information from the index column! All datasets have been sampled to be from the same time period.\n",
    "\n",
    "There are four datasets to look at:\n",
    "\n",
    "- `data/df1.csv`\n",
    "- `data/df2.csv`\n",
    "- `data/df3.csv`\n",
    "- `data/df4.csv`\n",
    "\n",
    "Have a play, maybe see if you can recreate the graphs?"
   ]
  },
  {
   "cell_type": "code",
   "execution_count": 63,
   "metadata": {},
   "outputs": [],
   "source": [
    "import pandas as pd\n",
    "import matplotlib.pyplot as plt\n",
    "from statsmodels.graphics.tsaplots import plot_acf"
   ]
  },
  {
   "cell_type": "code",
   "execution_count": null,
   "metadata": {},
   "outputs": [],
   "source": []
  },
  {
   "cell_type": "markdown",
   "metadata": {},
   "source": [
    "Simply plotting the data:\n",
    "<img src='images/eg-plots.png'>\n",
    "\n",
    "Plotting the autocorrelation:\n",
    "<img src='images/eg-acf.png'>"
   ]
  }
 ],
 "metadata": {
  "kernelspec": {
   "display_name": "Python 3",
   "language": "python",
   "name": "python3"
  },
  "language_info": {
   "codemirror_mode": {
    "name": "ipython",
    "version": 3
   },
   "file_extension": ".py",
   "mimetype": "text/x-python",
   "name": "python",
   "nbconvert_exporter": "python",
   "pygments_lexer": "ipython3",
   "version": "3.8.5"
  }
 },
 "nbformat": 4,
 "nbformat_minor": 4
}
