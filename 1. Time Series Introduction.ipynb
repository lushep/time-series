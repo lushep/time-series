{
 "cells": [
  {
   "cell_type": "markdown",
   "metadata": {},
   "source": [
    "# Time Series"
   ]
  },
  {
   "cell_type": "markdown",
   "metadata": {},
   "source": [
    "# Time Series - Introduction\n",
    "\n",
    "- Time Series Analysis is one of the hottest and most used domains of Data Science\n",
    "- The amount of timestamp data is skyrocketing and growing every day\n",
    "- Applications in practically every industry and domain\n",
    "\n",
    "\n",
    "### Time Utilities in Pandas \n",
    "\n",
    "There are various ways to work with time series data. Most notably, Pandas library has some *amazing* utilities for dealing with timestamp data. In this notebook we will demonstrate some of them, while introducing you to time series analysis."
   ]
  },
  {
   "cell_type": "markdown",
   "metadata": {},
   "source": [
    "- Using pd datetime effectively\n",
    "    - `pd.to_datetime()`\n",
    "    - `df.index`\n",
    "- Using a datetime index\n",
    "    - `.resample()`\n",
    "    - using `.loc[]` to access dates\n",
    "    - plotting\n",
    "- Important uses\n",
    "    - rolling average\n",
    "    - fill missing values"
   ]
  },
  {
   "cell_type": "code",
   "execution_count": null,
   "metadata": {},
   "outputs": [],
   "source": [
    "import numpy as np\n",
    "import pandas as pd\n",
    "import matplotlib.pyplot as plt"
   ]
  },
  {
   "cell_type": "markdown",
   "metadata": {},
   "source": [
    "# Using datetime in pandas effectively"
   ]
  },
  {
   "cell_type": "markdown",
   "metadata": {},
   "source": [
    "Timestamp is the pandas equivalent of python's Datetime and is interchangeable with it in most cases"
   ]
  },
  {
   "cell_type": "code",
   "execution_count": null,
   "metadata": {},
   "outputs": [],
   "source": [
    "pd.to_datetime('2020')"
   ]
  },
  {
   "cell_type": "markdown",
   "metadata": {},
   "source": [
    "Key things to make the most out of pandas datetime:\n",
    "- Converting a column to a pd datetime (`pd.to_datetime`)\n",
    "- Setting the index as a datetime index\n",
    "\n",
    "Let's do this by looking at some data about the data usage of one mobile phone user over the years:"
   ]
  },
  {
   "cell_type": "code",
   "execution_count": null,
   "metadata": {},
   "outputs": [],
   "source": [
    "data_usage = pd.read_csv('data/data_usage.csv')\n",
    "data_usage.head()"
   ]
  },
  {
   "cell_type": "markdown",
   "metadata": {},
   "source": [
    "Method 1 (bad practice)"
   ]
  },
  {
   "cell_type": "code",
   "execution_count": null,
   "metadata": {},
   "outputs": [],
   "source": [
    "data_usage.index = pd.to_datetime(data_usage['ts'])\n",
    "data_usage = data_usage.drop('ts',1)\n",
    "data_usage.head()"
   ]
  },
  {
   "cell_type": "markdown",
   "metadata": {},
   "source": [
    "Method 2 (better practice)"
   ]
  },
  {
   "cell_type": "code",
   "execution_count": null,
   "metadata": {},
   "outputs": [],
   "source": [
    "data_usage = pd.read_csv('data/data_usage.csv', index_col='ts', parse_dates=True)\n",
    "data_usage.head()"
   ]
  },
  {
   "cell_type": "markdown",
   "metadata": {},
   "source": [
    "### Using a pandas datetime index\n",
    "\n",
    "With our index as a datetime index there are now some cool things we can do.\n",
    "- Resample according to a time period\n",
    "- Plot straight from the data and the x-axis will be a datetime index\n",
    "- Filter using the `.loc[]` method and the date values"
   ]
  },
  {
   "cell_type": "markdown",
   "metadata": {},
   "source": [
    "Let's resample using frequency `'D'` for Day. Every second seems too much!"
   ]
  },
  {
   "cell_type": "code",
   "execution_count": null,
   "metadata": {},
   "outputs": [],
   "source": [
    "data_daily = data_usage.resample('D').sum()\n",
    "data_daily.head()"
   ]
  },
  {
   "cell_type": "markdown",
   "metadata": {},
   "source": [
    "### Important Uses\n",
    "\n",
    "Time Series data is very nuanced. There are some skills that are very useful to have:\n",
    "- Calculate the rolling average\n",
    "- Fill missing values"
   ]
  },
  {
   "cell_type": "markdown",
   "metadata": {},
   "source": [
    "**Rolling and Smoothing**\n",
    "\n",
    "Let us have a closer look at the power consumption patterns during a single year. The simplest way to plot timestamp data dynamics in Pandas is using plot(), which by default plots a linear plot over time:"
   ]
  },
  {
   "cell_type": "code",
   "execution_count": null,
   "metadata": {},
   "outputs": [],
   "source": [
    "data_daily2009 = data_daily['2009']\n",
    "\n",
    "data_daily2009.plot(figsize=(18,6));"
   ]
  },
  {
   "cell_type": "code",
   "execution_count": null,
   "metadata": {},
   "outputs": [],
   "source": [
    "ax = (\n",
    "    data_daily2009\n",
    "    .assign(\n",
    "        rolling_mean_d=lambda df: df['consumption'].rolling('20D').mean(),\n",
    "        # ! With `center=True` window size cannot be a time frame\n",
    "        rolling_mean_center=lambda df: df['consumption'].rolling(20, center=True).mean()\n",
    "    )\n",
    "    .plot(figsize=(16,4))\n",
    ")\n",
    "\n",
    "ax.set_title('rolling_mean_center and manual_center overlap');"
   ]
  },
  {
   "cell_type": "markdown",
   "metadata": {},
   "source": [
    "**Rolling Average Summary**\n",
    "\n",
    "A simple way to isolate signal from noise in time series data and get an idea about general time series behavior.\n",
    "\n",
    "It however has some important drawbacks:\n",
    "\n",
    "- small window sizes can lead to more noise than signal\n",
    "- it always lags by the window size (unless centered)\n",
    "- it is not really informative about the future\n",
    "- can be significantly skewed by extreme datapoints in the past"
   ]
  },
  {
   "cell_type": "markdown",
   "metadata": {},
   "source": [
    "**Filling Missing Values**\n",
    "\n",
    "Often we may be missing data for some of the timestamps. In such cases these smoothing functions can be especially useful — they can help us fill the missings"
   ]
  },
  {
   "cell_type": "code",
   "execution_count": null,
   "metadata": {},
   "outputs": [],
   "source": [
    "import random\n",
    "random.seed(918)\n",
    "\n",
    "data_na = (\n",
    "    data_daily\n",
    "    ['2008-12']\n",
    "    .assign(\n",
    "        missing=lambda df: [val if random.random() > 0.2 else np.nan for val in df['consumption']],\n",
    "        smooth=lambda df: df['missing'].ewm(alpha=0.5).mean().fillna(method='ffill'),\n",
    "        interpolate_smooth=lambda df: df['missing'].combine_first(df['smooth'])\n",
    "    )\n",
    ")\n",
    "\n",
    "fig, (ax_upper, ax_middle, ax_lower) = plt.subplots(3, figsize=(10, 8), sharex=True)\n",
    "\n",
    "data_na.plot(y='consumption', style='.r', ax=ax_upper, legend=False)\n",
    "data_na.plot(y='missing', style='.b', ax=ax_upper, legend=False)\n",
    "ax_upper.set_title('the red values are missing')\n",
    "\n",
    "data_na.plot(y='consumption', style='.b', ax=ax_middle, legend=False)\n",
    "data_na.plot(y='smooth', style='.r', ax=ax_middle, legend=False)\n",
    "ax_middle.set_title('the red values are interpolated')\n",
    "\n",
    "data_na.plot(y='consumption', style='.r', ax=ax_lower, legend=False)\n",
    "data_na.plot(y='interpolate_smooth', style='.b', ax=ax_lower, legend=False)\n",
    "ax_lower.set_title('the blue values are the smoothed interpolated values \\n the red values are the real missing')\n",
    "\n",
    "for ax in (ax_upper, ax_middle, ax_lower):\n",
    "    ax.set_ylim([0, 30_000])\n",
    "    ax.set_yticks(range(0, 30_000, 5_000))\n",
    "\n",
    "fig.tight_layout()"
   ]
  },
  {
   "cell_type": "markdown",
   "metadata": {},
   "source": [
    "## Example:\n",
    "\n",
    "Import the data `'data/stock_price.csv'`. Investigate the missing values and clean the data accordingly. Plot the data with a centred moving average."
   ]
  },
  {
   "cell_type": "code",
   "execution_count": null,
   "metadata": {},
   "outputs": [],
   "source": []
  }
 ],
 "metadata": {
  "kernelspec": {
   "display_name": "Python 3",
   "language": "python",
   "name": "python3"
  },
  "language_info": {
   "codemirror_mode": {
    "name": "ipython",
    "version": 3
   },
   "file_extension": ".py",
   "mimetype": "text/x-python",
   "name": "python",
   "nbconvert_exporter": "python",
   "pygments_lexer": "ipython3",
   "version": "3.8.5"
  }
 },
 "nbformat": 4,
 "nbformat_minor": 4
}
